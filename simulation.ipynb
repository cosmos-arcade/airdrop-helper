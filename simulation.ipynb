{
 "cells": [
  {
   "cell_type": "code",
   "execution_count": 1,
   "metadata": {},
   "outputs": [],
   "source": [
    "import json\n",
    "import random\n",
    "import numpy as np\n",
    "import matplotlib.pyplot as plt\n",
    "import pandas as pd\n",
    "from functions.helpers import make_plot, make_histogram"
   ]
  },
  {
   "cell_type": "code",
   "execution_count": 2,
   "metadata": {},
   "outputs": [],
   "source": [
    "# Load configuration file with env variables\n",
    "with open('config.json', 'r') as f:\n",
    "    config = json.load(f)\n",
    "\n",
    "MAX_SUPPLY = config['MAX_SUPPLY']\n",
    "INITIAL_AIRDROP = config['TOKENOMICS']['INITIAL_AIRDROP']\n",
    "SEED = config['SEED']\n",
    "PROBABILITY = config['PROBABILITY']\n",
    "\n",
    "# Load eligible addresses\n",
    "with open('output/eligible_addresses.json', 'r') as f:\n",
    "    addresses = json.load(f)\n",
    "addresses_list = addresses['addresses']"
   ]
  },
  {
   "cell_type": "code",
   "execution_count": 3,
   "metadata": {},
   "outputs": [],
   "source": [
    "# Set the seed of pseudorandom number generator\n",
    "random.seed(SEED, version=2)"
   ]
  },
  {
   "cell_type": "code",
   "execution_count": 4,
   "metadata": {},
   "outputs": [],
   "source": [
    "total_airdrop_amount = int(MAX_SUPPLY * INITIAL_AIRDROP / 100)\n",
    "# The minimum possible airdrop received will be 1/10 of the possible maximum received.\n",
    "random_numbers = [random.uniform(0.1, 1) for _ in range(0, len(addresses_list))]\n",
    "addresses_shares = np.array(random_numbers) / sum(random_numbers)\n",
    "# Rounding in order to not have decimal points.\n",
    "addresses_amount = np.round(addresses_shares * total_airdrop_amount).astype(int)"
   ]
  },
  {
   "cell_type": "code",
   "execution_count": 5,
   "metadata": {},
   "outputs": [
    {
     "name": "stdout",
     "output_type": "stream",
     "text": [
      "$LUCK total supply: 7021003008\n",
      "$LUCK virtual airdrop supply: 2773296188\n",
      "$LUCK effective airdrop supply: 2773296201\n"
     ]
    }
   ],
   "source": [
    "print(f\"$LUCK total supply: {MAX_SUPPLY}\")\n",
    "print(f\"$LUCK virtual airdrop supply: {total_airdrop_amount}\")\n",
    "print(f\"$LUCK effective airdrop supply: {np.sum(addresses_amount)}\")"
   ]
  },
  {
   "cell_type": "code",
   "execution_count": 6,
   "metadata": {},
   "outputs": [
    {
     "name": "stdout",
     "output_type": "stream",
     "text": [
      "$LUCK mean of airdrop per address: 26026.65453845865\n",
      "$LUCK min of airdrop per address: 4731\n",
      "$LUCK max of airdrop per address: 47311\n"
     ]
    }
   ],
   "source": [
    "mean_airdrop = np.mean(addresses_amount)\n",
    "min_airdrop = np.min(addresses_amount)\n",
    "max_airdrop = np.max(addresses_amount)\n",
    "print(f\"$LUCK mean of airdrop per address: {mean_airdrop}\")\n",
    "print(f\"$LUCK min of airdrop per address: {min_airdrop}\")\n",
    "print(f\"$LUCK max of airdrop per address: {max_airdrop}\")"
   ]
  },
  {
   "cell_type": "markdown",
   "metadata": {},
   "source": [
    "### Creating airdrop file"
   ]
  },
  {
   "cell_type": "code",
   "execution_count": 7,
   "metadata": {},
   "outputs": [],
   "source": [
    "airdrop_file = []\n",
    "for idx, address in enumerate(addresses_list):\n",
    "    airdrop_file.append(\n",
    "        {\n",
    "            \"address\": address,\n",
    "            \"amount\": str(addresses_amount[idx])\n",
    "        }\n",
    "    )\n",
    "\n",
    "with open('output/airdrop_file.json', 'w') as outfile:\n",
    "    json.dump(\n",
    "        airdrop_file,\n",
    "        outfile,\n",
    "    )"
   ]
  },
  {
   "cell_type": "markdown",
   "metadata": {},
   "source": [
    "### Creating bins file"
   ]
  },
  {
   "cell_type": "code",
   "execution_count": 8,
   "metadata": {},
   "outputs": [
    {
     "data": {
      "text/html": [
       "<div>\n",
       "<style scoped>\n",
       "    .dataframe tbody tr th:only-of-type {\n",
       "        vertical-align: middle;\n",
       "    }\n",
       "\n",
       "    .dataframe tbody tr th {\n",
       "        vertical-align: top;\n",
       "    }\n",
       "\n",
       "    .dataframe thead th {\n",
       "        text-align: right;\n",
       "    }\n",
       "</style>\n",
       "<table border=\"1\" class=\"dataframe\">\n",
       "  <thead>\n",
       "    <tr style=\"text-align: right;\">\n",
       "      <th></th>\n",
       "      <th>address</th>\n",
       "      <th>$LUCK amount</th>\n",
       "    </tr>\n",
       "  </thead>\n",
       "  <tbody>\n",
       "    <tr>\n",
       "      <th>0</th>\n",
       "      <td>juno1qhlmw8dxf4vwdf5xkwnc0wfyyqefqmk00uszr8</td>\n",
       "      <td>15979</td>\n",
       "    </tr>\n",
       "    <tr>\n",
       "      <th>1</th>\n",
       "      <td>juno1r8an2qm0ptft99ggmzz2len35pzdwgcszjp64c</td>\n",
       "      <td>30140</td>\n",
       "    </tr>\n",
       "    <tr>\n",
       "      <th>2</th>\n",
       "      <td>juno1xyke6grw6n7asuwremqw9jdgl7c8x43j9umcd4</td>\n",
       "      <td>8718</td>\n",
       "    </tr>\n",
       "    <tr>\n",
       "      <th>3</th>\n",
       "      <td>juno1606tx3lkrdqmj0tkrqjqhhrjqqjfcuatq0xzta</td>\n",
       "      <td>33487</td>\n",
       "    </tr>\n",
       "    <tr>\n",
       "      <th>4</th>\n",
       "      <td>juno107kuxmya29mguyyxfn4aw4vy39llrz00dsh7gx</td>\n",
       "      <td>17292</td>\n",
       "    </tr>\n",
       "  </tbody>\n",
       "</table>\n",
       "</div>"
      ],
      "text/plain": [
       "                                       address  $LUCK amount\n",
       "0  juno1qhlmw8dxf4vwdf5xkwnc0wfyyqefqmk00uszr8         15979\n",
       "1  juno1r8an2qm0ptft99ggmzz2len35pzdwgcszjp64c         30140\n",
       "2  juno1xyke6grw6n7asuwremqw9jdgl7c8x43j9umcd4          8718\n",
       "3  juno1606tx3lkrdqmj0tkrqjqhhrjqqjfcuatq0xzta         33487\n",
       "4  juno107kuxmya29mguyyxfn4aw4vy39llrz00dsh7gx         17292"
      ]
     },
     "execution_count": 8,
     "metadata": {},
     "output_type": "execute_result"
    }
   ],
   "source": [
    "data = {'address': addresses_list, '$LUCK amount': addresses_amount}\n",
    "df = pd.DataFrame(data)\n",
    "df.head()"
   ]
  },
  {
   "cell_type": "code",
   "execution_count": 14,
   "metadata": {},
   "outputs": [
    {
     "data": {
      "text/html": [
       "<div>\n",
       "<style scoped>\n",
       "    .dataframe tbody tr th:only-of-type {\n",
       "        vertical-align: middle;\n",
       "    }\n",
       "\n",
       "    .dataframe tbody tr th {\n",
       "        vertical-align: top;\n",
       "    }\n",
       "\n",
       "    .dataframe thead th {\n",
       "        text-align: right;\n",
       "    }\n",
       "</style>\n",
       "<table border=\"1\" class=\"dataframe\">\n",
       "  <thead>\n",
       "    <tr style=\"text-align: right;\">\n",
       "      <th></th>\n",
       "      <th>address</th>\n",
       "      <th>$LUCK amount</th>\n",
       "      <th>range</th>\n",
       "      <th>bin</th>\n",
       "    </tr>\n",
       "  </thead>\n",
       "  <tbody>\n",
       "    <tr>\n",
       "      <th>6170</th>\n",
       "      <td>juno13asy9mt0fmkl80g9csg9mzkvfxj99d42wvtq5e</td>\n",
       "      <td>4731</td>\n",
       "      <td>(4688.42, 8989.0]</td>\n",
       "      <td>1</td>\n",
       "    </tr>\n",
       "    <tr>\n",
       "      <th>12407</th>\n",
       "      <td>juno1efjw2wj2cmqav6wyhgmhzr2yefvnc3zp53gy30</td>\n",
       "      <td>4731</td>\n",
       "      <td>(4688.42, 8989.0]</td>\n",
       "      <td>1</td>\n",
       "    </tr>\n",
       "    <tr>\n",
       "      <th>80973</th>\n",
       "      <td>juno1f60cdwxgsdscrzhgrlptews6qlayzphy62ngs6</td>\n",
       "      <td>4732</td>\n",
       "      <td>(4688.42, 8989.0]</td>\n",
       "      <td>1</td>\n",
       "    </tr>\n",
       "    <tr>\n",
       "      <th>13553</th>\n",
       "      <td>juno1p7slsl5qd8g6rkgs6tvpvjs4cjjx4ckm6c8pxk</td>\n",
       "      <td>4733</td>\n",
       "      <td>(4688.42, 8989.0]</td>\n",
       "      <td>1</td>\n",
       "    </tr>\n",
       "    <tr>\n",
       "      <th>46158</th>\n",
       "      <td>juno15d6ndw0dc4gtfpzvwlwlhhaxnqh5204vyas4ph</td>\n",
       "      <td>4733</td>\n",
       "      <td>(4688.42, 8989.0]</td>\n",
       "      <td>1</td>\n",
       "    </tr>\n",
       "  </tbody>\n",
       "</table>\n",
       "</div>"
      ],
      "text/plain": [
       "                                           address  $LUCK amount  \\\n",
       "6170   juno13asy9mt0fmkl80g9csg9mzkvfxj99d42wvtq5e          4731   \n",
       "12407  juno1efjw2wj2cmqav6wyhgmhzr2yefvnc3zp53gy30          4731   \n",
       "80973  juno1f60cdwxgsdscrzhgrlptews6qlayzphy62ngs6          4732   \n",
       "13553  juno1p7slsl5qd8g6rkgs6tvpvjs4cjjx4ckm6c8pxk          4733   \n",
       "46158  juno15d6ndw0dc4gtfpzvwlwlhhaxnqh5204vyas4ph          4733   \n",
       "\n",
       "                   range bin  \n",
       "6170   (4688.42, 8989.0]   1  \n",
       "12407  (4688.42, 8989.0]   1  \n",
       "80973  (4688.42, 8989.0]   1  \n",
       "13553  (4688.42, 8989.0]   1  \n",
       "46158  (4688.42, 8989.0]   1  "
      ]
     },
     "execution_count": 14,
     "metadata": {},
     "output_type": "execute_result"
    }
   ],
   "source": [
    "df = df.sort_values(by = ['$LUCK amount'],  ascending=True)\n",
    "\n",
    "BINS = int(100 / PROBABILITY)\n",
    "df['range'] = pd.cut(df['$LUCK amount'], BINS)\n",
    "df['bin'] = pd.cut(df['$LUCK amount'], BINS, labels=np.arange(1, BINS+1, 1))\n",
    "addresses_list = df['address'].tolist()\n",
    "addresses_bin = df['bin'].tolist()\n",
    "df.head()"
   ]
  },
  {
   "cell_type": "code",
   "execution_count": 11,
   "metadata": {},
   "outputs": [
    {
     "data": {
      "text/plain": [
       "1     10722\n",
       "2     10604\n",
       "3     10621\n",
       "4     10739\n",
       "5     10670\n",
       "6     10528\n",
       "7     10539\n",
       "8     10802\n",
       "9     10628\n",
       "10    10703\n",
       "Name: bin, dtype: int64"
      ]
     },
     "execution_count": 11,
     "metadata": {},
     "output_type": "execute_result"
    }
   ],
   "source": [
    "df['bin'].value_counts(sort=False)"
   ]
  },
  {
   "cell_type": "code",
   "execution_count": null,
   "metadata": {},
   "outputs": [],
   "source": [
    "airdrop_file = []\n",
    "for idx, address in enumerate(addresses_list):\n",
    "    airdrop_file.append(\n",
    "        {\n",
    "            \"address\": address,\n",
    "            \"amount\": str(addresses_bin[idx])\n",
    "        }\n",
    "    )\n",
    "\n",
    "with open('output/airdrop_file_bin.json', 'w') as outfile:\n",
    "    json.dump(\n",
    "        airdrop_file,\n",
    "        outfile,\n",
    "    )"
   ]
  },
  {
   "cell_type": "markdown",
   "metadata": {},
   "source": [
    "### Airdrop visualization"
   ]
  },
  {
   "cell_type": "code",
   "execution_count": 8,
   "metadata": {},
   "outputs": [
    {
     "data": {
      "image/png": "[encoded data removed]",
      "text/plain": [
       "<Figure size 504x504 with 1 Axes>"
      ]
     },
     "metadata": {},
     "output_type": "display_data"
    }
   ],
   "source": [
    "sorted_amount = np.sort(addresses_amount)\n",
    "addresses_number = np.linspace(0, len(sorted_amount), len(sorted_amount))\n",
    "\n",
    "data = [addresses_number, sorted_amount]\n",
    "title = 'Random airdrop'\n",
    "make_plot(data, title, save_fig=True, fig_title='allocations.png')"
   ]
  },
  {
   "cell_type": "code",
   "execution_count": 9,
   "metadata": {},
   "outputs": [
    {
     "data": {
      "image/png": "[encoded data removed]",
      "text/plain": [
       "<Figure size 504x504 with 1 Axes>"
      ]
     },
     "metadata": {},
     "output_type": "display_data"
    }
   ],
   "source": [
    "title = 'Random airdrop distribution'\n",
    "make_histogram(sorted_amount, 10, title, save_fig=True, fig_title='histogram.png')"
   ]
  }
 ],
 "metadata": {
  "interpreter": {
   "hash": "8374cc5c398adc28be0cc5c2c6b2f177c8c2d8c2bb5eccbbd558d17ee49bf2b8"
  },
  "kernelspec": {
   "display_name": "Python 3.9.12 ('venv': venv)",
   "language": "python",
   "name": "python3"
  },
  "language_info": {
   "codemirror_mode": {
    "name": "ipython",
    "version": 3
   },
   "file_extension": ".py",
   "mimetype": "text/x-python",
   "name": "python",
   "nbconvert_exporter": "python",
   "pygments_lexer": "ipython3",
   "version": "3.9.12"
  },
  "orig_nbformat": 4
 },
 "nbformat": 4,
 "nbformat_minor": 2
}
